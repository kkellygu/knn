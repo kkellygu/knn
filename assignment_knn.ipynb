{
  "cells": [
    {
      "cell_type": "markdown",
      "id": "f7ef20f0-722f-4240-8a79-437d4a3b8832",
      "metadata": {
        "id": "f7ef20f0-722f-4240-8a79-437d4a3b8832"
      },
      "source": [
        "## Assignment 3: $k$ Nearest Neighbor\n",
        "\n",
        "**Do two questions.**\n",
        "\n",
        "`! git clone https://github.com/DS3001/knn`"
      ]
    },
    {
      "cell_type": "markdown",
      "id": "5d9212c0",
      "metadata": {
        "id": "5d9212c0"
      },
      "source": [
        "**Q0.**\n",
        "1. What is the difference between regression and classification?\n",
        "\n",
        "**The difference between regression and classification is that classification is when we use features to predict a categorical variable, whereas regression is when we use features to predict a numeric variable.**\n",
        "\n",
        "2. What is a confusion table? What does it help us understand about a model's performance?\n",
        "\n",
        "**A confusion table cross-tabulates the actual and predicted values. It allows us to understand where the model predicts class labels correctly or incorrectly.**\n",
        "\n",
        "3. What does the SSE quantify about a particular model?\n",
        "\n",
        "**SSE quantifies the squared error of a model's results. It provides a measure of how far off the model is from the truth/actual value.**\n",
        "4. What are overfitting and underfitting?\n",
        "\n",
        "**Overfitting is when a model is too complex for the data available, making it difficult for the model to generalize. Underfitting is when a model is too simple for the data available, and it does not capture the important features.**\n",
        "\n",
        "5. Why does splitting the data into training and testing sets, and choosing $k$ by evaluating accuracy or SSE on the test set, improve model performance?\n",
        "\n",
        "**When splitting the data and testing the model on data that has never been seen before, we can continue to reuse the model in the future. It gives us a more accurate estimate of how th emodel will perform in novel use cases, rather than the ones that we have already seen. In other words, the model is able the generalize.**\n",
        "\n",
        "6. With classification, we can report a class label as a prediction or a probability distribution over class labels. Please explain the strengths and weaknesses of each approach.\n",
        "\n",
        "**Class labels are simple to interpret, however, probabilities are important, as then we are able to know how accurate or certain the predictions are. A weakness is that a model can classify a class, but the probabilities are a .51/.49 split, which is a very close split.**"
      ]
    },
    {
      "cell_type": "markdown",
      "id": "287b8586",
      "metadata": {
        "id": "287b8586"
      },
      "source": [
        "**Q2.** This is a case study on $k$ nearest neighbor classification, using the `animals.csv` data.\n",
        "\n",
        "The data consist of a label, `class`, taking integer values 1 to 7, the name of the species, `animal`, and 16 characteristics of the animal, including `hair`, `feathers`, `milk`, `eggs`, `airborne`, and so on.\n",
        "\n",
        "1. Load the data. For each of the seven class labels, print the values in the class and get a sense of what is included in that group. Perform some other EDA: How big are the classes? How much variation is there in each of the features/covariates? Which variables do you think will best predict which class?\n",
        "\n",
        "**Class 1: Large chordate**\n",
        "\n",
        "**Class 2: Fish**\n",
        "\n",
        "**Class 3: Birds**\n",
        "\n",
        "**Class 4: Miscellaneous sea creatures**\n",
        "\n",
        "**Class 5: Bugs**\n",
        "\n",
        "**Class 6: Reptiles**\n",
        "\n",
        "**Class 7: Tube creatures**\n",
        "\n",
        "2. Split the data 50/50 into training and test/validation sets. (The smaller the data are, the more equal the split should be, in my experience: Otherwise, all of the members of one class end up in the training or test data, and the model falls apart.)\n",
        "3. Using all of the variables, build a $k$-NN classifier. Explain how you select $k$.\n",
        "\n",
        "**I select $k$ that maximizes accuracy.**\n",
        "\n",
        "4. Print a confusion table for the optimal model, comparing predicted and actual class label on the test set. How accurate it is? Can you interpret why mistakes are made across groups?\n",
        "\n",
        "**The total number of correct predictions according to the confusion table would be 46 predictions (17+9+1+7+3+5+4), and the total number of predictions would be 51 predictions. Therefore, our accuracy would be 90%.**\n",
        "\n",
        "**The primary mistakes in the model's predictions seem to stem from feature overlap between certain classes, particularly classes 3, 4, and 5, which share similar characteristics that lead to confusion. Insufficient training data for these classes hampers the model's ability to learn distinctive features, resulting in low correct predictions. Conversely, classes 1 and 2 exhibit clear differentiability, reflecting robust feature representation. The consistent misclassifications highlight the need for targeted improvements in feature engineering and data augmentation, as well as potential adjustments to model parameters to enhance classification accuracy across all groups.**\n",
        "\n",
        "5. Use only `milk`, `aquatic`, and `airborne` to train a new $k$-NN classifier. Print your confusion table. Mine does not predict all of the classes, only a subset of them. To see the underlying probabilities, use `model.predict_proba(X_test.values)` to predict probabilities rather than labels for your `X_test` test data for your fitted `model`. Are all of the classes represented? Explain your results.\n",
        "\n",
        "**According to the confusion table, not all of the classes are presented. While the model performs well on certain classes, the absence of probabilities for some classes indicates a failure to learn their characteristics, which could stem from issues like class imbalance, insufficient data, or model architecture. Improving performance for those classes may require further data collection, feature engineering, or tuning of the model.**"
      ]
    },
    {
      "cell_type": "code",
      "source": [
        "import numpy as np\n",
        "import matplotlib.pyplot as plt\n",
        "import pandas as pd\n",
        "import seaborn as sns\n",
        "\n",
        "df = pd.read_csv('zoo.csv')\n",
        "print(df.head())\n",
        "print(df.shape)\n",
        "\n",
        "classes = list(df['class'].unique())\n",
        "[ print(df.loc[ df['class'] == item, 'animal'].unique()) for item in classes]"
      ],
      "metadata": {
        "colab": {
          "base_uri": "https://localhost:8080/"
        },
        "id": "t7u-O2BUaOLh",
        "outputId": "d83910d7-7557-4093-fd2b-ee8147a0ddf6"
      },
      "id": "t7u-O2BUaOLh",
      "execution_count": 8,
      "outputs": [
        {
          "output_type": "stream",
          "name": "stdout",
          "text": [
            "     animal  hair  feathers  eggs  milk  airborne  aquatic  predator  toothed  \\\n",
            "0  aardvark     1         0     0     1         0        0         1        1   \n",
            "1  antelope     1         0     0     1         0        0         0        1   \n",
            "2      bass     0         0     1     0         0        1         1        1   \n",
            "3      bear     1         0     0     1         0        0         1        1   \n",
            "4      boar     1         0     0     1         0        0         1        1   \n",
            "\n",
            "   backbone  breathes  venomous  fins  legs  tail  domestic  catsize  class  \n",
            "0         1         1         0     0     4     0         0        1      1  \n",
            "1         1         1         0     0     4     1         0        1      1  \n",
            "2         1         0         0     1     0     1         0        0      4  \n",
            "3         1         1         0     0     4     0         0        1      1  \n",
            "4         1         1         0     0     4     1         0        1      1  \n",
            "(101, 18)\n",
            "['aardvark' 'antelope' 'bear' 'boar' 'buffalo' 'calf' 'cavy' 'cheetah'\n",
            " 'deer' 'dolphin' 'elephant' 'fruitbat' 'giraffe' 'girl' 'goat' 'gorilla'\n",
            " 'hamster' 'hare' 'leopard' 'lion' 'lynx' 'mink' 'mole' 'mongoose'\n",
            " 'opossum' 'oryx' 'platypus' 'polecat' 'pony' 'porpoise' 'puma' 'pussycat'\n",
            " 'raccoon' 'reindeer' 'seal' 'sealion' 'squirrel' 'vampire' 'vole'\n",
            " 'wallaby' 'wolf']\n",
            "['bass' 'carp' 'catfish' 'chub' 'dogfish' 'haddock' 'herring' 'pike'\n",
            " 'piranha' 'seahorse' 'sole' 'stingray' 'tuna']\n",
            "['chicken' 'crow' 'dove' 'duck' 'flamingo' 'gull' 'hawk' 'kiwi' 'lark'\n",
            " 'ostrich' 'parakeet' 'penguin' 'pheasant' 'rhea' 'skimmer' 'skua'\n",
            " 'sparrow' 'swan' 'vulture' 'wren']\n",
            "['clam' 'crab' 'crayfish' 'lobster' 'octopus' 'scorpion' 'seawasp' 'slug'\n",
            " 'starfish' 'worm']\n",
            "['flea' 'gnat' 'honeybee' 'housefly' 'ladybird' 'moth' 'termite' 'wasp']\n",
            "['frog' 'newt' 'toad']\n",
            "['pitviper' 'seasnake' 'slowworm' 'tortoise' 'tuatara']\n"
          ]
        },
        {
          "output_type": "execute_result",
          "data": {
            "text/plain": [
              "[None, None, None, None, None, None, None]"
            ]
          },
          "metadata": {},
          "execution_count": 8
        }
      ]
    },
    {
      "cell_type": "code",
      "source": [
        "features = df.columns.tolist()\n",
        "y = df['class']\n",
        "features.remove('animal')\n",
        "features.remove('class')\n",
        "X = df.loc[:, features]\n",
        "X.describe()\n",
        "\n",
        "# Split data\n",
        "from sklearn.model_selection import train_test_split\n",
        "X_train, X_test, y_train, y_test = train_test_split(X, y, test_size=0.5, random_state=125)"
      ],
      "metadata": {
        "id": "It9pxltkcLYy"
      },
      "id": "It9pxltkcLYy",
      "execution_count": 19,
      "outputs": []
    },
    {
      "cell_type": "code",
      "source": [
        "from sklearn.neighbors import KNeighborsClassifier\n",
        "\n",
        "N_train = len(y_train)\n",
        "N_test = len(y_test)\n",
        "k_bar = N_train-1\n",
        "accuracy = np.zeros(k_bar)\n",
        "\n",
        "for k in range(k_bar):\n",
        "    model = KNeighborsClassifier(n_neighbors=k+1)\n",
        "    fitted_model = model.fit(X_train.values,y_train)\n",
        "    y_hat = fitted_model.predict(X_test.values)\n",
        "    accuracy[k] = np.sum( y_hat == y_test )/N_test\n",
        "\n",
        "accuracy_max = np.max(accuracy)\n",
        "max_index = np.where(accuracy==accuracy_max)\n",
        "if len(max_index) > 1:\n",
        "    print(max_index[len(max_index)])\n",
        "    max_index = max_index[len(max_index)]\n",
        "k_star = max_index[0]+1\n",
        "print(accuracy_max)\n",
        "print(k_star)\n",
        "\n",
        "## Accuracy plot:\n",
        "plt.plot(np.arange(0,k_bar),accuracy,label='Accuracy')\n",
        "plt.xlabel(\"k\")\n",
        "plt.ylabel(\"Accuracy\")\n",
        "plt.legend(loc='upper right')\n",
        "plt.title('Test Accuracy')\n",
        "plt.show()"
      ],
      "metadata": {
        "colab": {
          "base_uri": "https://localhost:8080/",
          "height": 508
        },
        "id": "g_lTljFic1RS",
        "outputId": "f5049e55-7c0e-4c26-cd4d-285e6fc19f23"
      },
      "id": "g_lTljFic1RS",
      "execution_count": 20,
      "outputs": [
        {
          "output_type": "stream",
          "name": "stdout",
          "text": [
            "0.9019607843137255\n",
            "[1]\n"
          ]
        },
        {
          "output_type": "display_data",
          "data": {
            "text/plain": [
              "<Figure size 640x480 with 1 Axes>"
            ],
            "image/png": "[encoded data removed]"
          },
          "metadata": {}
        }
      ]
    },
    {
      "cell_type": "code",
      "source": [
        "# Fit optimal model\n",
        "model = KNeighborsClassifier(n_neighbors=k_star[0])\n",
        "fitted_model = model.fit(X_train.values,y_train)\n",
        "y_hat = fitted_model.predict(X_test.values)\n",
        "\n",
        "## Confusion Table:\n",
        "print('All variables, confusion table:', pd.crosstab(y_hat, y_test))"
      ],
      "metadata": {
        "colab": {
          "base_uri": "https://localhost:8080/"
        },
        "id": "Lb52udlndjY3",
        "outputId": "467bf7bd-905c-4f3f-9e47-0a3e96b33617"
      },
      "id": "Lb52udlndjY3",
      "execution_count": 21,
      "outputs": [
        {
          "output_type": "stream",
          "name": "stdout",
          "text": [
            "All variables, confusion table: class   1  2  3  4  5  6  7\n",
            "row_0                      \n",
            "1      17  0  1  0  0  0  0\n",
            "2       0  9  0  0  0  0  0\n",
            "3       0  0  1  0  0  0  0\n",
            "4       0  0  1  7  0  0  0\n",
            "5       0  0  1  0  3  0  0\n",
            "6       0  0  0  0  0  5  2\n",
            "7       0  0  0  0  0  0  4\n"
          ]
        }
      ]
    },
    {
      "cell_type": "code",
      "source": [
        "## Select data:\n",
        "x_vars = ['milk','aquatic','airborne']\n",
        "\n",
        "y = df['class']\n",
        "X = df.loc[:,x_vars]\n",
        "\n",
        "## Split the sample:\n",
        "X_train, X_test, y_train, y_test = train_test_split(X,y, test_size=.5,random_state=125)\n",
        "N_train = len(y_train)\n",
        "N_test = len(y_test)\n",
        "\n",
        "## Solve for k that maximizes accuracy:\n",
        "k_bar = N_train\n",
        "accuracy = np.zeros(k_bar)\n",
        "\n",
        "for k in range(k_bar):\n",
        "    model = KNeighborsClassifier(n_neighbors=k+1) # Create a sk model for k\n",
        "    fitted_model = model.fit(X_train.values,y_train) # Train the model on our data\n",
        "    y_hat = fitted_model.predict(X_test.values) # Predict values for test set\n",
        "    accuracy[k] = np.sum( y_hat == y_test )/N_test # Accuracy on testing data\n",
        "\n",
        "accuracy_max = np.max(accuracy) # Find highest recorded Accuracy\n",
        "max_index = np.where(accuracy==accuracy_max) # Find the indices that equal the maximum\n",
        "if len(max_index) > 1:\n",
        "    print(max_index[len(max_index)])\n",
        "    max_index = max_index[len(max_index)]\n",
        "k_star = max_index[0]+1 # Find the optimal value of k; why index+1?\n",
        "print(accuracy_max)\n",
        "print(k_star)\n",
        "\n",
        "\n",
        "## Accuracy plot:\n",
        "plt.plot(np.arange(0,k_bar),accuracy,label='Accuracy')\n",
        "plt.xlabel(\"k\")\n",
        "plt.ylabel(\"Accuracy\")\n",
        "plt.legend(loc='upper right')\n",
        "plt.title('Test Accuracy')\n",
        "plt.show()\n",
        "\n",
        "## Fit optimal model:\n",
        "model = KNeighborsClassifier(n_neighbors=k_star[0]) # Create a sk model for k\n",
        "fitted_model = model.fit(X_train.values,y_train) # Train the model on our data\n",
        "y_hat = model.predict(X_test.values) # Predict values for test set\n",
        "\n",
        "## Confusion Table:\n",
        "print('Confusion table:', pd.crosstab(y_hat, y_test))\n",
        "\n",
        "print( model.predict_proba(X_test.values) )"
      ],
      "metadata": {
        "colab": {
          "base_uri": "https://localhost:8080/",
          "height": 1000
        },
        "id": "pQw9MTFmd7MJ",
        "outputId": "c067b3b5-9999-40ab-8b96-191a12ed0b27"
      },
      "id": "pQw9MTFmd7MJ",
      "execution_count": 23,
      "outputs": [
        {
          "output_type": "stream",
          "name": "stdout",
          "text": [
            "0.6470588235294118\n",
            "[ 1  2  3  4  5  6  7  8  9 10 12 13 14]\n"
          ]
        },
        {
          "output_type": "display_data",
          "data": {
            "text/plain": [
              "<Figure size 640x480 with 1 Axes>"
            ],
            "image/png": "[encoded data removed]"
          },
          "metadata": {}
        },
        {
          "output_type": "stream",
          "name": "stdout",
          "text": [
            "Confusion table: class   1  2  3  4  5  6  7\n",
            "row_0                      \n",
            "1      17  0  0  0  0  0  0\n",
            "2       0  8  0  0  0  4  0\n",
            "4       0  0  0  7  3  0  3\n",
            "6       0  1  4  0  0  1  3\n",
            "[[1. 0. 0. 0. 0. 0. 0.]\n",
            " [0. 0. 0. 1. 0. 0. 0.]\n",
            " [1. 0. 0. 0. 0. 0. 0.]\n",
            " [1. 0. 0. 0. 0. 0. 0.]\n",
            " [0. 1. 0. 0. 0. 0. 0.]\n",
            " [0. 0. 0. 1. 0. 0. 0.]\n",
            " [0. 1. 0. 0. 0. 0. 0.]\n",
            " [0. 0. 0. 1. 0. 0. 0.]\n",
            " [1. 0. 0. 0. 0. 0. 0.]\n",
            " [1. 0. 0. 0. 0. 0. 0.]\n",
            " [0. 0. 0. 1. 0. 0. 0.]\n",
            " [0. 0. 0. 0. 0. 1. 0.]\n",
            " [0. 1. 0. 0. 0. 0. 0.]\n",
            " [1. 0. 0. 0. 0. 0. 0.]\n",
            " [0. 0. 0. 0. 0. 1. 0.]\n",
            " [0. 1. 0. 0. 0. 0. 0.]\n",
            " [1. 0. 0. 0. 0. 0. 0.]\n",
            " [0. 1. 0. 0. 0. 0. 0.]\n",
            " [0. 1. 0. 0. 0. 0. 0.]\n",
            " [0. 0. 0. 0. 0. 1. 0.]\n",
            " [1. 0. 0. 0. 0. 0. 0.]\n",
            " [0. 0. 0. 1. 0. 0. 0.]\n",
            " [1. 0. 0. 0. 0. 0. 0.]\n",
            " [0. 1. 0. 0. 0. 0. 0.]\n",
            " [1. 0. 0. 0. 0. 0. 0.]\n",
            " [0. 0. 0. 0. 0. 1. 0.]\n",
            " [1. 0. 0. 0. 0. 0. 0.]\n",
            " [0. 1. 0. 0. 0. 0. 0.]\n",
            " [0. 0. 0. 1. 0. 0. 0.]\n",
            " [0. 0. 0. 0. 0. 1. 0.]\n",
            " [0. 0. 0. 1. 0. 0. 0.]\n",
            " [0. 0. 0. 1. 0. 0. 0.]\n",
            " [0. 1. 0. 0. 0. 0. 0.]\n",
            " [0. 0. 0. 0. 0. 1. 0.]\n",
            " [1. 0. 0. 0. 0. 0. 0.]\n",
            " [1. 0. 0. 0. 0. 0. 0.]\n",
            " [1. 0. 0. 0. 0. 0. 0.]\n",
            " [1. 0. 0. 0. 0. 0. 0.]\n",
            " [0. 0. 0. 1. 0. 0. 0.]\n",
            " [0. 0. 0. 1. 0. 0. 0.]\n",
            " [0. 1. 0. 0. 0. 0. 0.]\n",
            " [0. 0. 0. 1. 0. 0. 0.]\n",
            " [1. 0. 0. 0. 0. 0. 0.]\n",
            " [0. 0. 0. 0. 0. 1. 0.]\n",
            " [0. 1. 0. 0. 0. 0. 0.]\n",
            " [0. 0. 0. 1. 0. 0. 0.]\n",
            " [0. 0. 0. 1. 0. 0. 0.]\n",
            " [0. 0. 0. 0. 0. 1. 0.]\n",
            " [0. 0. 0. 0. 0. 1. 0.]\n",
            " [1. 0. 0. 0. 0. 0. 0.]\n",
            " [0. 1. 0. 0. 0. 0. 0.]]\n"
          ]
        }
      ]
    }
  ],
  "metadata": {
    "kernelspec": {
      "display_name": "Python 3 (ipykernel)",
      "language": "python",
      "name": "python3"
    },
    "language_info": {
      "codemirror_mode": {
        "name": "ipython",
        "version": 3
      },
      "file_extension": ".py",
      "mimetype": "text/x-python",
      "name": "python",
      "nbconvert_exporter": "python",
      "pygments_lexer": "ipython3",
      "version": "3.10.4"
    },
    "colab": {
      "provenance": []
    }
  },
  "nbformat": 4,
  "nbformat_minor": 5
}